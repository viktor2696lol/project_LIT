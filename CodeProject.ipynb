{
  "cells": [
    {
      "cell_type": "markdown",
      "metadata": {
        "id": "kS3rMUEseION"
      },
      "source": [
        "# Импорт всех библиотек"
      ],
      "id": "kS3rMUEseION"
    },
    {
      "cell_type": "code",
      "execution_count": null,
      "metadata": {
        "id": "LHFGZ-Hb3onM"
      },
      "outputs": [],
      "source": [
        "from google.colab import drive\n",
        "drive.mount('/content/drive')"
      ],
      "id": "LHFGZ-Hb3onM"
    },
    {
      "cell_type": "code",
      "execution_count": null,
      "metadata": {
        "id": "0a56fdff"
      },
      "outputs": [],
      "source": [
        "import tensorflow as tf\n",
        "import matplotlib.pyplot as plt\n",
        "import numpy as np\n",
        "import matplotlib\n",
        "import keras\n",
        "import timeit\n",
        "import time\n",
        "import cv2\n",
        "import os\n",
        "import pathlib\n",
        "import random\n",
        "import pandas as pd\n",
        "from PIL import Image\n",
        "from numpy import asarray\n",
        "\n",
        "from tensorflow import keras\n",
        "from tensorflow.keras.optimizers import Adam\n",
        "from tensorflow.keras.preprocessing.image import ImageDataGenerator\n",
        "from tensorflow.keras.models import Model\n",
        "from tensorflow.keras.layers import Input, Conv2D, MaxPooling2D, UpSampling2D, concatenate, Conv2DTranspose, BatchNormalization, Dropout, Lambda\n",
        "from tensorflow.keras.optimizers import Adam\n",
        "from tensorflow.keras.layers import Activation, MaxPool2D, Concatenate\n",
        "from tensorflow.keras.metrics import BinaryIoU\n",
        "from keras.callbacks import EarlyStopping, ModelCheckpoint"
      ],
      "id": "0a56fdff"
    },
    {
      "cell_type": "markdown",
      "metadata": {
        "id": "wbsuQowUeTrs"
      },
      "source": [
        "# Выделение файлов из хранилища и преобразование"
      ],
      "id": "wbsuQowUeTrs"
    },
    {
      "cell_type": "code",
      "execution_count": null,
      "metadata": {
        "id": "5308b0d4",
        "scrolled": true
      },
      "outputs": [],
      "source": [
        "path_img, path_clust = '/content/drive/MyDrive/training_data/data/Neural_network_img_cl/nu_int_dn2_img', '/content/drive/MyDrive/training_data/data/Neural_network_img_cl/nu_int_dn2_clust'\n",
        "\n",
        "res_img, res_clust = os.listdir(path_img), os.listdir(path_clust)\n",
        "\n",
        "img_list, clust_list = [], []\n",
        "\n",
        "for item in res_img:\n",
        "    path_img_dir = os.path.join(path_img, item)\n",
        "    for file in os.listdir(path_img_dir):\n",
        "        img_list.append(os.path.join(path_img_dir, file))\n",
        "\n",
        "for item in res_clust:\n",
        "    path_clust_dir = os.path.join(path_clust, item)\n",
        "    for file in os.listdir(path_clust_dir):\n",
        "        clust_list.append(os.path.join(path_clust_dir, file))\n",
        "\n",
        "img_list.sort()\n",
        "clust_list.sort()"
      ],
      "id": "5308b0d4"
    },
    {
      "cell_type": "code",
      "execution_count": null,
      "metadata": {
        "id": "zH6MXCRHMKFF"
      },
      "outputs": [],
      "source": [
        "images_l = []\n",
        "masks_l = []\n",
        "\n",
        "count = 0\n",
        "\n",
        "for path in img_list:\n",
        "  count += 1\n",
        "  if count % 30 == 0:\n",
        "    print(count)\n",
        "  img = Image.open(path)\n",
        "  numpydata_img = asarray(img)\n",
        "  images_l.append(numpydata_img)\n",
        "\n",
        "count = 0\n",
        "for path in clust_list:\n",
        "  count += 1\n",
        "  if count % 30 == 0:\n",
        "    print(count)\n",
        "  img = Image.open(path)\n",
        "  numpydata_clust = asarray(img)\n",
        "  masks_l.append(numpydata_clust)\n",
        "\n",
        "\n",
        "images = np.array(images_l)\n",
        "masks = np.array(masks_l)\n",
        "\n",
        "images = np.expand_dims(images, axis=-1)\n",
        "masks = np.expand_dims(masks, axis=-1)\n",
        "\n",
        "images = images / 255\n",
        "masks = np.array(masks > 0.28, dtype='float')"
      ],
      "id": "zH6MXCRHMKFF"
    },
    {
      "cell_type": "code",
      "execution_count": null,
      "metadata": {
        "id": "Jxih4DmV11Zn"
      },
      "outputs": [],
      "source": [
        "print(images.shape)\n",
        "\n",
        "print(masks.shape)"
      ],
      "id": "Jxih4DmV11Zn"
    },
    {
      "cell_type": "code",
      "execution_count": null,
      "metadata": {
        "id": "osqJtmMPHSvX"
      },
      "outputs": [],
      "source": [
        "images[0].max(), images.min()"
      ],
      "id": "osqJtmMPHSvX"
    },
    {
      "cell_type": "markdown",
      "metadata": {
        "id": "54hLcfo4eg9U"
      },
      "source": [
        "# ImageDataGenerator"
      ],
      "id": "54hLcfo4eg9U"
    },
    {
      "cell_type": "code",
      "execution_count": null,
      "metadata": {
        "id": "E4aSbgm4CjQv"
      },
      "outputs": [],
      "source": [
        "gen = ImageDataGenerator().flow(x=images, y=masks, batch_size=4)"
      ],
      "id": "E4aSbgm4CjQv"
    },
    {
      "cell_type": "code",
      "execution_count": null,
      "metadata": {
        "id": "2G8KSMC1Csx2"
      },
      "outputs": [],
      "source": [
        "x_batch, y_batch = next(gen)"
      ],
      "id": "2G8KSMC1Csx2"
    },
    {
      "cell_type": "code",
      "execution_count": null,
      "metadata": {
        "id": "oGNrRWtpu0mV"
      },
      "outputs": [],
      "source": [
        "x_batch.shape, y_batch.shape"
      ],
      "id": "oGNrRWtpu0mV"
    },
    {
      "cell_type": "code",
      "execution_count": null,
      "metadata": {
        "id": "0l-xPum4EnJ6"
      },
      "outputs": [],
      "source": [
        "for i in range(0, 4):\n",
        "    plt.figure(figsize=(20,12))\n",
        "    plt.subplot(121)\n",
        "    plt.imshow(x_batch[i,:,:,0], cmap=\"gray\")\n",
        "    plt.subplot(122)\n",
        "    plt.imshow(y_batch[i,:,:,0], cmap=\"gray\")\n",
        "    plt.show()"
      ],
      "id": "0l-xPum4EnJ6"
    },
    {
      "cell_type": "code",
      "execution_count": null,
      "metadata": {
        "id": "0fDeE8jZJSww"
      },
      "outputs": [],
      "source": [
        "x_batch.max(), x_batch.min(), y_batch.max(), y_batch.min(), np.unique(y_batch)"
      ],
      "id": "0fDeE8jZJSww"
    },
    {
      "cell_type": "markdown",
      "metadata": {
        "id": "ByV1JgZGJWS8"
      },
      "source": [
        "# Создание нейросети и её обучение (с сохранением лучшего результата)"
      ],
      "id": "ByV1JgZGJWS8"
    },
    {
      "cell_type": "code",
      "execution_count": null,
      "metadata": {
        "id": "JCaZyWFSwn4A"
      },
      "outputs": [],
      "source": [
        "def conv_block(input, num_filters):\n",
        "    x = Conv2D(num_filters, 3, padding=\"same\")(input)\n",
        "    x = BatchNormalization()(x)\n",
        "    x = Activation(\"relu\")(x)\n",
        "\n",
        "    x = Conv2D(num_filters, 3, padding=\"same\")(x)\n",
        "    x = BatchNormalization()(x)\n",
        "    x = Activation(\"relu\")(x)\n",
        "\n",
        "    return x\n",
        "\n",
        "#Блок кодировки (сжатия)\n",
        "\n",
        "\n",
        "def encoder_block(input, num_filters):\n",
        "    x = conv_block(input, num_filters)\n",
        "    p = MaxPool2D((2, 2))(x)\n",
        "    return x, p\n",
        "\n",
        "def decoder_block(input, skip_features, num_filters):\n",
        "    x = Conv2DTranspose(num_filters, (2, 2), strides=2, padding=\"same\")(input)\n",
        "    x = Concatenate()([x, skip_features])\n",
        "    x = conv_block(x, num_filters)\n",
        "    return x\n",
        "\n",
        "def build_unet(input_shape):\n",
        "    inputs = Input(input_shape)\n",
        "\n",
        "    s1, p1 = encoder_block(inputs, 64)\n",
        "    s2, p2 = encoder_block(p1, 128)\n",
        "    s3, p3 = encoder_block(p2, 256)\n",
        "    s4, p4 = encoder_block(p3, 512)\n",
        "\n",
        "    b1 = conv_block(p4, 1024)\n",
        "\n",
        "    d1 = decoder_block(b1, s4, 512)\n",
        "    d2 = decoder_block(d1, s3, 256)\n",
        "    d3 = decoder_block(d2, s2, 128)\n",
        "    d4 = decoder_block(d3, s1, 64)\n",
        "\n",
        "    outputs = Conv2D(1, 1, padding=\"same\", activation=\"sigmoid\")(d4)\n",
        "\n",
        "    model = Model(inputs, outputs, name=\"U-Net\")\n",
        "    return model"
      ],
      "id": "JCaZyWFSwn4A"
    },
    {
      "cell_type": "code",
      "execution_count": null,
      "metadata": {
        "id": "DEPxkbT7w16q"
      },
      "outputs": [],
      "source": [
        "model = build_unet((1024, 1280, 1))\n",
        "model.summary()"
      ],
      "id": "DEPxkbT7w16q"
    },
    {
      "cell_type": "code",
      "execution_count": null,
      "metadata": {
        "id": "6CbW9EXvw3Rz"
      },
      "outputs": [],
      "source": [
        "model.compile(optimizer=Adam(learning_rate=1e-4), loss='BinaryFocalCrossentropy', metrics=[ BinaryIoU(target_class_ids=[0])])"
      ],
      "id": "6CbW9EXvw3Rz"
    },
    {
      "cell_type": "code",
      "execution_count": null,
      "metadata": {
        "id": "Hkn0fRkd9NMG"
      },
      "outputs": [],
      "source": [
        "model_checkpoint_callback = tf.keras.callbacks.ModelCheckpoint(\n",
        "    filepath=\"model.h5\",\n",
        "    save_weights_only=True,\n",
        "    monitor='binary_io_u',\n",
        "    mode='max',\n",
        "    save_best_only=True)\n"
      ],
      "id": "Hkn0fRkd9NMG"
    },
    {
      "cell_type": "code",
      "execution_count": null,
      "metadata": {
        "id": "vw78O8B4w9hv"
      },
      "outputs": [],
      "source": [
        "model.fit(gen, epochs=3, callbacks=[model_checkpoint_callback])"
      ],
      "id": "vw78O8B4w9hv"
    },
    {
      "cell_type": "markdown",
      "metadata": {
        "id": "mgiyjOKsOIe1"
      },
      "source": [
        "# Результаты обучения"
      ],
      "id": "mgiyjOKsOIe1"
    },
    {
      "cell_type": "code",
      "execution_count": null,
      "metadata": {
        "id": "Hosv8HYVw_qE"
      },
      "outputs": [],
      "source": [
        "y_pred = model.predict(x_batch)\n",
        "y_pred_mod = y_pred > 0.5"
      ],
      "id": "Hosv8HYVw_qE"
    },
    {
      "cell_type": "code",
      "execution_count": null,
      "metadata": {
        "id": "XPMdBGW7GthJ"
      },
      "outputs": [],
      "source": [
        "y_pred.max(), y_pred.min()"
      ],
      "id": "XPMdBGW7GthJ"
    },
    {
      "cell_type": "code",
      "execution_count": null,
      "metadata": {
        "id": "QYvglLPMLSwd"
      },
      "outputs": [],
      "source": [
        "for i in range(len(x_batch)):\n",
        "    m = BinaryIoU(target_class_ids=[0])\n",
        "    m.update_state(y_pred_mod[i, :, :, 0], y_batch[i, :, :, 0])\n",
        "    print(m.result().numpy())\n",
        "\n",
        "    plt.figure(figsize=(20,12))\n",
        "    plt.subplot(131)\n",
        "    plt.imshow(x_batch[i,:,:,0], cmap=\"gray\")\n",
        "    plt.subplot(132)\n",
        "    plt.imshow(y_batch[i,:,:,0], cmap=\"gray\")\n",
        "    plt.subplot(133)\n",
        "    plt.imshow(y_pred_mod[i,:,:,0], cmap=\"gray\")\n",
        "    plt.show()\n",
        "    print(\"\\n\")\n"
      ],
      "id": "QYvglLPMLSwd"
    },
    {
      "cell_type": "code",
      "execution_count": null,
      "metadata": {
        "id": "-rPZLvsfLjTS"
      },
      "outputs": [],
      "source": [
        "y_pred_mod.max(), y_pred_mod.min()"
      ],
      "id": "-rPZLvsfLjTS"
    },
    {
      "cell_type": "markdown",
      "metadata": {
        "id": "0cRHrjS2mpub"
      },
      "source": [
        "# Сохранение модели"
      ],
      "id": "0cRHrjS2mpub"
    },
    {
      "cell_type": "code",
      "execution_count": null,
      "metadata": {
        "id": "0AMfSrmzAdL_"
      },
      "outputs": [],
      "source": [
        "model_file = model.save(\"model.h5\")"
      ],
      "id": "0AMfSrmzAdL_"
    },
    {
      "cell_type": "markdown",
      "metadata": {
        "id": "-iJzLi0DvdU8"
      },
      "source": [
        "# Загрузка обученной модели"
      ],
      "id": "-iJzLi0DvdU8"
    },
    {
      "cell_type": "code",
      "execution_count": null,
      "metadata": {
        "id": "_MOh-MdJv0m9"
      },
      "outputs": [],
      "source": [
        "loaded_model = keras.models.load_model(\"/content/drive/MyDrive/Project_Altair_10thGrade/model.h5\")\n",
        "\n",
        "loaded_model.summary()"
      ],
      "id": "_MOh-MdJv0m9"
    },
    {
      "cell_type": "markdown",
      "metadata": {
        "id": "5VtIHrrz6FE4"
      },
      "source": [
        "# Проверка сети на другом наборе"
      ],
      "id": "5VtIHrrz6FE4"
    },
    {
      "cell_type": "code",
      "execution_count": null,
      "metadata": {
        "id": "8hOugxC86Wth"
      },
      "outputs": [],
      "source": [
        "path_img, path_clust = '/content/drive/MyDrive/training_data/check_data/img', '/content/drive/MyDrive/training_data/check_data/clust'\n",
        "\n",
        "res_img, res_clust = os.listdir(path_img), os.listdir(path_clust)\n",
        "\n",
        "img_check_list, clust_check_list = [], []\n",
        "\n",
        "for item in res_img:\n",
        "    path_img_dir = os.path.join(path_img, item)\n",
        "    for file in os.listdir(path_img_dir):\n",
        "        img_check_list.append(os.path.join(path_img_dir, file))\n",
        "\n",
        "for item in res_clust:\n",
        "    path_clust_dir = os.path.join(path_clust, item)\n",
        "    for file in os.listdir(path_clust_dir):\n",
        "        clust_check_list.append(os.path.join(path_clust_dir, file))\n",
        "\n",
        "img_check_list.sort()\n",
        "clust_check_list.sort()"
      ],
      "id": "8hOugxC86Wth"
    },
    {
      "cell_type": "code",
      "execution_count": null,
      "metadata": {
        "id": "qlF8FvyV8L0s"
      },
      "outputs": [],
      "source": [
        "img_check_list"
      ],
      "id": "qlF8FvyV8L0s"
    },
    {
      "cell_type": "code",
      "execution_count": null,
      "metadata": {
        "id": "O-rQH9ge8QHY"
      },
      "outputs": [],
      "source": [
        "clust_check_list"
      ],
      "id": "O-rQH9ge8QHY"
    },
    {
      "cell_type": "code",
      "execution_count": null,
      "metadata": {
        "id": "whBL5cy08a9w"
      },
      "outputs": [],
      "source": [
        "images_check_l = []\n",
        "masks_check_l = []\n",
        "\n",
        "count = 0\n",
        "\n",
        "for path in img_check_list:\n",
        "  count += 1\n",
        "  if count % 10 == 0:\n",
        "    print(count)\n",
        "  img = Image.open(path)\n",
        "  numpydata_img = asarray(img)\n",
        "  images_check_l.append(numpydata_img)\n",
        "\n",
        "count = 0\n",
        "for path in clust_check_list:\n",
        "  count += 1\n",
        "  if count % 10 == 0:\n",
        "    print(count)\n",
        "  img = Image.open(path)\n",
        "  numpydata_clust = asarray(img)\n",
        "  masks_check_l.append(numpydata_clust)\n",
        "\n",
        "\n",
        "images_exam = np.array(images_check_l)\n",
        "masks_exam = np.array(masks_check_l)\n",
        "\n",
        "images_exam = np.expand_dims(images_exam, axis=-1)\n",
        "masks_exam = np.expand_dims(masks_exam, axis=-1)\n",
        "\n",
        "images_exam = images_exam / 255\n",
        "masks_exam = np.array(masks_exam > 0.28, dtype='float')"
      ],
      "id": "whBL5cy08a9w"
    },
    {
      "cell_type": "code",
      "execution_count": null,
      "metadata": {
        "id": "loEUeO1-LxZM"
      },
      "outputs": [],
      "source": [
        "images_exam.shape, masks_exam.shape"
      ],
      "id": "loEUeO1-LxZM"
    },
    {
      "cell_type": "code",
      "execution_count": null,
      "metadata": {
        "id": "HQrBp_5kHG4d"
      },
      "outputs": [],
      "source": [
        "images_exam[0].max(), images_exam.min()"
      ],
      "id": "HQrBp_5kHG4d"
    },
    {
      "cell_type": "code",
      "execution_count": null,
      "metadata": {
        "id": "0Ou24egY_126"
      },
      "outputs": [],
      "source": [
        "gen_exam = ImageDataGenerator().flow(x=images_exam, y=masks_exam, batch_size=4)"
      ],
      "id": "0Ou24egY_126"
    },
    {
      "cell_type": "code",
      "execution_count": null,
      "metadata": {
        "id": "Wd6-5f2oACoM"
      },
      "outputs": [],
      "source": [
        "x_batch_exam, y_batch_exam = next(gen_exam)"
      ],
      "id": "Wd6-5f2oACoM"
    },
    {
      "cell_type": "code",
      "execution_count": null,
      "metadata": {
        "id": "ftfY1c9YAKJZ"
      },
      "outputs": [],
      "source": [
        "x_batch_exam.shape, y_batch_exam.shape"
      ],
      "id": "ftfY1c9YAKJZ"
    },
    {
      "cell_type": "code",
      "execution_count": null,
      "metadata": {
        "id": "WrrGChhaAKlm"
      },
      "outputs": [],
      "source": [
        "for i in range(0, 4):\n",
        "    plt.figure(figsize=(20,12))\n",
        "    plt.subplot(121)\n",
        "    plt.imshow(x_batch_exam[i,:,:,0], cmap=\"gray\")\n",
        "    plt.subplot(122)\n",
        "    plt.imshow(y_batch_exam[i,:,:,0], cmap=\"gray\")\n",
        "    plt.show()"
      ],
      "id": "WrrGChhaAKlm"
    },
    {
      "cell_type": "code",
      "execution_count": null,
      "metadata": {
        "id": "L7G1_vYalltJ"
      },
      "outputs": [],
      "source": [
        "start_time = time.time()\n",
        "\n",
        "one_pict_pred = loaded_model.predict(x_batch_exam)\n",
        "\n",
        "print('One image is generated in', round((time.time() - start_time) / len(img_check_list) * 1000), \"ms\")"
      ],
      "id": "L7G1_vYalltJ"
    },
    {
      "cell_type": "code",
      "execution_count": null,
      "metadata": {
        "id": "39AZFGlWActy"
      },
      "outputs": [],
      "source": [
        "y_pred_exam = loaded_model.predict(x_batch_exam)\n",
        "y_pred_exam_mod = y_pred_exam > 0.5"
      ],
      "id": "39AZFGlWActy"
    },
    {
      "cell_type": "code",
      "execution_count": null,
      "metadata": {
        "id": "6Csjco9kEr-E"
      },
      "outputs": [],
      "source": [
        "x_batch_exam.max(), x_batch_exam.min(), y_batch_exam.max(), y_batch_exam.min(), np.unique(y_batch_exam)"
      ],
      "id": "6Csjco9kEr-E"
    },
    {
      "cell_type": "code",
      "execution_count": null,
      "metadata": {
        "id": "8szYw9lAEy7o"
      },
      "outputs": [],
      "source": [
        "y_pred_exam.max(), y_pred_exam.min(), np.unique(y_pred_exam)"
      ],
      "id": "8szYw9lAEy7o"
    },
    {
      "cell_type": "code",
      "execution_count": null,
      "metadata": {
        "id": "jVUQt27FAdEu"
      },
      "outputs": [],
      "source": [
        "for i in range(len(x_batch_exam)):\n",
        "    m = BinaryIoU(target_class_ids=[0])\n",
        "    m.update_state(y_pred_exam_mod[i, :, :, 0], y_batch_exam[i, :, :, 0])\n",
        "    print(m.result().numpy())\n",
        "    \n",
        "\n",
        "    plt.figure(figsize=(20, 12))\n",
        "    plt.subplot(131)\n",
        "    plt.imshow(x_batch_exam[i,:,:,0], cmap=\"gray\")\n",
        "    plt.subplot(132)\n",
        "    plt.imshow(y_batch_exam[i,:,:,0], cmap=\"gray\")\n",
        "    plt.subplot(133)\n",
        "    plt.imshow(y_pred_exam_mod[i,:,:,0], cmap=\"gray\")\n",
        "    plt.show()\n",
        "    print(\"\\n\")"
      ],
      "id": "jVUQt27FAdEu"
    },
    {
      "cell_type": "markdown",
      "metadata": {
        "id": "UwY0YqRZk0nH"
      },
      "source": [
        "# Intersection over Union"
      ],
      "id": "UwY0YqRZk0nH"
    },
    {
      "cell_type": "code",
      "execution_count": null,
      "metadata": {
        "id": "703GyDdik8Xa"
      },
      "outputs": [],
      "source": [
        "num_pict = random.randint(0, 4)\n",
        "iou_real = y_batch_exam[num_pict,:,:,0]\n",
        "iou_pred = y_pred_exam_mod[num_pict,:,:,0]"
      ],
      "id": "703GyDdik8Xa"
    },
    {
      "cell_type": "code",
      "execution_count": null,
      "metadata": {
        "id": "w3klcxpwZcHd"
      },
      "outputs": [],
      "source": [
        "plt.figure(figsize=(20,12))\n",
        "plt.subplot(121)\n",
        "plt.imshow(iou_real, cmap=\"gray\")\n",
        "plt.subplot(122)\n",
        "plt.imshow(iou_pred, cmap=\"gray\")\n",
        "plt.show()"
      ],
      "id": "w3klcxpwZcHd"
    },
    {
      "cell_type": "code",
      "execution_count": null,
      "metadata": {
        "id": "GxEcFqEGVmr_"
      },
      "outputs": [],
      "source": [
        "iou_real.shape, iou_pred.shape"
      ],
      "id": "GxEcFqEGVmr_"
    },
    {
      "cell_type": "code",
      "execution_count": null,
      "metadata": {
        "id": "ZBJyIAheVtVk"
      },
      "outputs": [],
      "source": [
        "iou_real = np.expand_dims(iou_real, -1)\n",
        "\n",
        "iou_pred = np.expand_dims(iou_pred, -1)"
      ],
      "id": "ZBJyIAheVtVk"
    },
    {
      "cell_type": "code",
      "execution_count": null,
      "metadata": {
        "id": "5rhR7oTrU7m1"
      },
      "outputs": [],
      "source": [
        "plt.imshow(np.array(iou_real < 0.5, dtype='float')[:,:,0], cmap='gray')"
      ],
      "id": "5rhR7oTrU7m1"
    },
    {
      "cell_type": "code",
      "execution_count": null,
      "metadata": {
        "id": "oXsu0HPBVEt-"
      },
      "outputs": [],
      "source": [
        "plt.imshow(np.array(iou_pred < 0.7, dtype='float')[:,:,0], cmap='gray')"
      ],
      "id": "oXsu0HPBVEt-"
    },
    {
      "cell_type": "code",
      "execution_count": null,
      "metadata": {
        "id": "yZtBJYqqVIgr"
      },
      "outputs": [],
      "source": [
        "true_mask = np.array(iou_real < 0.5, dtype='float')\n",
        "predicted_mask = np.array(iou_pred < 0.7, dtype='float')"
      ],
      "id": "yZtBJYqqVIgr"
    },
    {
      "cell_type": "code",
      "execution_count": null,
      "metadata": {
        "id": "rvHksWUwVN3r"
      },
      "outputs": [],
      "source": [
        "plt.imshow(true_mask[:,:,0] + predicted_mask[:,:,0], cmap='gray')"
      ],
      "id": "rvHksWUwVN3r"
    },
    {
      "cell_type": "code",
      "execution_count": null,
      "metadata": {
        "id": "avUE_QKsVTbP"
      },
      "outputs": [],
      "source": [
        "true_mask_rgb = np.array(np.concatenate([true_mask * 255, true_mask, true_mask], -1), dtype='int')\n",
        "predicted_mask_rgb = np.array(np.concatenate([predicted_mask, predicted_mask * 255, predicted_mask], -1), dtype='int')\n"
      ],
      "id": "avUE_QKsVTbP"
    },
    {
      "cell_type": "code",
      "execution_count": null,
      "metadata": {
        "id": "3d6LVHHjYkGN"
      },
      "outputs": [],
      "source": [
        "(true_mask_rgb + predicted_mask_rgb).shape"
      ],
      "id": "3d6LVHHjYkGN"
    },
    {
      "cell_type": "code",
      "execution_count": null,
      "metadata": {
        "id": "zWeWguSBVVVM"
      },
      "outputs": [],
      "source": [
        "plt.figure(figsize=(300, 180))\n",
        "plt.imshow((true_mask_rgb + predicted_mask_rgb))\n"
      ],
      "id": "zWeWguSBVVVM"
    }
  ],
  "metadata": {
    "accelerator": "GPU",
    "colab": {
      "collapsed_sections": [
        "kS3rMUEseION",
        "wbsuQowUeTrs",
        "0cRHrjS2mpub",
        "-iJzLi0DvdU8",
        "UwY0YqRZk0nH"
      ],
      "machine_shape": "hm",
      "provenance": [],
      "gpuClass": "premium"
    },
    "gpuClass": "premium",
    "kernelspec": {
      "display_name": "Python 3",
      "language": "python",
      "name": "python3"
    },
    "language_info": {
      "codemirror_mode": {
        "name": "ipython",
        "version": 3
      },
      "file_extension": ".py",
      "mimetype": "text/x-python",
      "name": "python",
      "nbconvert_exporter": "python",
      "pygments_lexer": "ipython3",
      "version": "3.8.8"
    }
  },
  "nbformat": 4,
  "nbformat_minor": 5
}